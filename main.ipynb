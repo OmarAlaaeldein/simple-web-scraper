{
 "cells": [
  {
   "cell_type": "code",
   "execution_count": null,
   "metadata": {},
   "outputs": [],
   "source": [
    "from bs4 import BeautifulSoup\n",
    "import requests\n",
    "from collections import defaultdict\n",
    "from PIL import Image\n",
    "import pylab as pl\n",
    "import matplotlib.pyplot as plt\n"
   ]
  },
  {
   "cell_type": "code",
   "execution_count": null,
   "metadata": {},
   "outputs": [],
   "source": [
    "url=r\"https://www.washingtonpost.com/\"\n",
    "content=requests.get(url).text"
   ]
  },
  {
   "cell_type": "code",
   "execution_count": null,
   "metadata": {},
   "outputs": [],
   "source": [
    "soup=BeautifulSoup(content,\"lxml\")\n",
    "divs=soup.find_all(\"div\",class_=\"relative gray-darkest pb-xs\")\n"
   ]
  },
  {
   "cell_type": "code",
   "execution_count": null,
   "metadata": {},
   "outputs": [],
   "source": [
    "print(len(divs))"
   ]
  },
  {
   "cell_type": "code",
   "execution_count": null,
   "metadata": {},
   "outputs": [],
   "source": [
    "news=defaultdict(list)\n",
    "limit=20\n",
    "for i,j in enumerate(divs):\n",
    "    print(i)\n",
    "    link=requests.get(j.find(\"a\").get('href')).text\n",
    "    try:\n",
    "        articleimg=BeautifulSoup(r\"{}\".format(link),\"lxml\").find(\"img\")[\"srcset\"].split(\"&\")[0]\n",
    "        response = requests.get(articleimg,stream=True)\n",
    "        img = Image.open(response.raw)\n",
    "    except:\n",
    "        img=0\n",
    "    news[i].append((j.find(\"span\").text,img))\n",
    "    if i==20: # to stop the loop after only 20 images\n",
    "        break\n",
    "    #img=IPython.display.Image(articleimg, width = 250)\n",
    "    "
   ]
  },
  {
   "cell_type": "code",
   "execution_count": null,
   "metadata": {},
   "outputs": [],
   "source": [
    "for i in news:\n",
    "    plt.figure()\n",
    "    pl.axis(\"off\")\n",
    "    pl.title(news[i][0][0]) \n",
    "    if news[i][0][1]:\n",
    "        pl.imshow(news[i][0][1])\n",
    "    else:\n",
    "        pass\n",
    "        \n",
    "    \n",
    "#texts,image=zip(*news.values())"
   ]
  }
 ],
 "metadata": {
  "interpreter": {
   "hash": "83edcf9d6691da80da87185edf1e2ec27aa1177a09f7d029aea1a0cb99dd36f7"
  },
  "kernelspec": {
   "display_name": "Python 3.8.8 64-bit ('base': conda)",
   "name": "python3"
  },
  "language_info": {
   "codemirror_mode": {
    "name": "ipython",
    "version": 3
   },
   "file_extension": ".py",
   "mimetype": "text/x-python",
   "name": "python",
   "nbconvert_exporter": "python",
   "pygments_lexer": "ipython3",
   "version": "3.8.8"
  },
  "orig_nbformat": 4
 },
 "nbformat": 4,
 "nbformat_minor": 2
}
